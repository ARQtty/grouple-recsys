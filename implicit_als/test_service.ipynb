{
 "cells": [
  {
   "cell_type": "code",
   "execution_count": 1,
   "metadata": {},
   "outputs": [],
   "source": [
    "import requests as r\n",
    "from IPython.display import IFrame\n",
    "from datetime import datetime as dt\n",
    "import pickle\n",
    "from time import sleep\n",
    "import json\n",
    "\n",
    "import pandas as pd"
   ]
  },
  {
   "cell_type": "code",
   "execution_count": null,
   "metadata": {},
   "outputs": [],
   "source": []
  },
  {
   "cell_type": "code",
   "execution_count": 2,
   "metadata": {
    "collapsed": true,
    "jupyter": {
     "outputs_hidden": true
    }
   },
   "outputs": [
    {
     "data": {
      "text/plain": [
       "{'args': {'n_recs': '20', 'user_id': '1269'},\n",
       " 'isTopPop': 0,\n",
       " 'items': [{'itemId': 1485, 'score': 1.2257459163665771, 'siteId': 5},\n",
       "  {'itemId': 2174, 'score': 1.035210371017456, 'siteId': 5},\n",
       "  {'itemId': 1501, 'score': 1.0310511589050293, 'siteId': 5},\n",
       "  {'itemId': 98, 'score': 1.0296947956085205, 'siteId': 5},\n",
       "  {'itemId': 3274, 'score': 1.0123964548110962, 'siteId': 5},\n",
       "  {'itemId': 817, 'score': 1.0110678672790527, 'siteId': 5},\n",
       "  {'itemId': 71, 'score': 0.9979733228683472, 'siteId': 5},\n",
       "  {'itemId': 3150, 'score': 0.9750867486000061, 'siteId': 5},\n",
       "  {'itemId': 828, 'score': 0.9741932153701782, 'siteId': 5},\n",
       "  {'itemId': 81, 'score': 0.9674354791641235, 'siteId': 5},\n",
       "  {'itemId': 4058, 'score': 0.9655011892318726, 'siteId': 5},\n",
       "  {'itemId': 5132, 'score': 0.9533958435058594, 'siteId': 5},\n",
       "  {'itemId': 953, 'score': 0.9454625844955444, 'siteId': 5},\n",
       "  {'itemId': 69, 'score': 0.938755214214325, 'siteId': 5},\n",
       "  {'itemId': 43, 'score': 0.9354978799819946, 'siteId': 5},\n",
       "  {'itemId': 85, 'score': 0.9332200288772583, 'siteId': 5},\n",
       "  {'itemId': 5542, 'score': 0.9325737953186035, 'siteId': 5},\n",
       "  {'itemId': 39, 'score': 0.929474949836731, 'siteId': 5},\n",
       "  {'itemId': 5, 'score': 0.9243389964103699, 'siteId': 5},\n",
       "  {'itemId': 806, 'score': 0.9213797450065613, 'siteId': 5},\n",
       "  {'itemId': 5545, 'score': 0.920324444770813, 'siteId': 5},\n",
       "  {'itemId': 269, 'score': 0.9114810228347778, 'siteId': 5},\n",
       "  {'itemId': 225, 'score': 0.9089701175689697, 'siteId': 5},\n",
       "  {'itemId': 3473, 'score': 0.9086542725563049, 'siteId': 5},\n",
       "  {'itemId': 1363, 'score': 0.9069325923919678, 'siteId': 5},\n",
       "  {'itemId': 428, 'score': 0.9025222063064575, 'siteId': 5},\n",
       "  {'itemId': 4187, 'score': 0.9016265273094177, 'siteId': 5},\n",
       "  {'itemId': 812, 'score': 0.8975237607955933, 'siteId': 5},\n",
       "  {'itemId': 1637, 'score': 0.8955802917480469, 'siteId': 5},\n",
       "  {'itemId': 2244, 'score': 0.8940724730491638, 'siteId': 5},\n",
       "  {'itemId': 56, 'score': 0.8871906995773315, 'siteId': 5},\n",
       "  {'itemId': 1704, 'score': 0.8838596343994141, 'siteId': 5},\n",
       "  {'itemId': 1918, 'score': 0.8787628412246704, 'siteId': 5},\n",
       "  {'itemId': 1571, 'score': 0.8753579258918762, 'siteId': 5},\n",
       "  {'itemId': 45, 'score': 0.8721740245819092, 'siteId': 5},\n",
       "  {'itemId': 1468, 'score': 0.8672456741333008, 'siteId': 5}]}"
      ]
     },
     "execution_count": 2,
     "metadata": {},
     "output_type": "execute_result"
    }
   ],
   "source": [
    "addr = 'http://127.0.0.1:5000/'\n",
    "method = 'recommend'\n",
    "\n",
    "resp = r.get(addr+method, params={'user_id': 1269, 'n_recs': 20})\n",
    "eval(resp.text)"
   ]
  },
  {
   "cell_type": "code",
   "execution_count": 12,
   "metadata": {},
   "outputs": [
    {
     "data": {
      "text/plain": [
       "{'lastDataUpdateTimestamp': 1602349336, 'status': 'ok'}"
      ]
     },
     "execution_count": 12,
     "metadata": {},
     "output_type": "execute_result"
    }
   ],
   "source": [
    "resp = r.get('http://recom.grouple.co:5001/recalculate')\n",
    "eval(resp.text)"
   ]
  },
  {
   "cell_type": "code",
   "execution_count": 10,
   "metadata": {},
   "outputs": [
    {
     "data": {
      "text/plain": [
       "{'lastDataUpdateTimestamp': 1601758982, 'status': 'ok'}"
      ]
     },
     "execution_count": 10,
     "metadata": {},
     "output_type": "execute_result"
    }
   ],
   "source": [
    "resp = r.get('http://0.0.0.0:5000/recalculate')\n",
    "eval(resp.text)"
   ]
  },
  {
   "cell_type": "code",
   "execution_count": null,
   "metadata": {},
   "outputs": [],
   "source": [
    "from datetime import datetime as dt"
   ]
  },
  {
   "cell_type": "code",
   "execution_count": null,
   "metadata": {},
   "outputs": [],
   "source": []
  }
 ],
 "metadata": {
  "kernelspec": {
   "display_name": "Python 3",
   "language": "python",
   "name": "python3"
  },
  "language_info": {
   "codemirror_mode": {
    "name": "ipython",
    "version": 3
   },
   "file_extension": ".py",
   "mimetype": "text/x-python",
   "name": "python",
   "nbconvert_exporter": "python",
   "pygments_lexer": "ipython3",
   "version": "3.6.9"
  }
 },
 "nbformat": 4,
 "nbformat_minor": 4
}
