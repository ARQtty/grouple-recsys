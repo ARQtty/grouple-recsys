{
 "cells": [
  {
   "cell_type": "code",
   "execution_count": 1,
   "metadata": {},
   "outputs": [],
   "source": [
    "import requests as r\n",
    "from IPython.display import IFrame\n",
    "from datetime import datetime as dt\n",
    "import pickle\n",
    "from time import sleep\n",
    "import json\n",
    "\n",
    "import pandas as pd"
   ]
  },
  {
   "cell_type": "code",
   "execution_count": null,
   "metadata": {},
   "outputs": [],
   "source": []
  },
  {
   "cell_type": "code",
   "execution_count": 16,
   "metadata": {},
   "outputs": [
    {
     "data": {
      "text/plain": [
       "{'additional': 'top popular returned',\n",
       " 'args': {'n_recs': '20', 'user_id': '1269'},\n",
       " 'items': [225,\n",
       "  3,\n",
       "  5,\n",
       "  85,\n",
       "  81,\n",
       "  43,\n",
       "  39,\n",
       "  71,\n",
       "  98,\n",
       "  4,\n",
       "  88,\n",
       "  65,\n",
       "  56,\n",
       "  32,\n",
       "  22,\n",
       "  18,\n",
       "  269,\n",
       "  806,\n",
       "  264,\n",
       "  99]}"
      ]
     },
     "execution_count": 16,
     "metadata": {},
     "output_type": "execute_result"
    }
   ],
   "source": [
    "addr = 'http://127.0.0.1:5000/'\n",
    "method = 'recommend'\n",
    "\n",
    "resp = r.get(addr+method, params={'user_id': 1269, 'n_recs': 20})\n",
    "eval(resp.text)"
   ]
  },
  {
   "cell_type": "code",
   "execution_count": 15,
   "metadata": {},
   "outputs": [
    {
     "data": {
      "text/plain": [
       "{'status': 'ok'}"
      ]
     },
     "execution_count": 15,
     "metadata": {},
     "output_type": "execute_result"
    }
   ],
   "source": [
    "resp = r.get(addr+'recalculate', params={'user_id': 1269, 'n_recs': 20})\n",
    "eval(resp.text)"
   ]
  },
  {
   "cell_type": "code",
   "execution_count": null,
   "metadata": {},
   "outputs": [],
   "source": []
  }
 ],
 "metadata": {
  "kernelspec": {
   "display_name": "Python 3",
   "language": "python",
   "name": "python3"
  },
  "language_info": {
   "codemirror_mode": {
    "name": "ipython",
    "version": 3
   },
   "file_extension": ".py",
   "mimetype": "text/x-python",
   "name": "python",
   "nbconvert_exporter": "python",
   "pygments_lexer": "ipython3",
   "version": "3.6.9"
  }
 },
 "nbformat": 4,
 "nbformat_minor": 4
}
